{
 "cells": [
  {
   "cell_type": "markdown",
   "id": "dde5fb62",
   "metadata": {},
   "source": [
    "# Titanic Spaceship\n",
    "<img src=\"./data/titanic.png\" style=\"display:block; position:reative; margin-left:auto; margin-right:auto;width:50%\"></img>\n",
    "### Context\n",
    "Welcome to the year 2912, where your data science skills are needed to solve a cosmic mystery. We've received a transmission from four lightyears away and things aren't looking good.\n",
    "\n",
    "The Spaceship Titanic was an interstellar passenger liner launched a month ago. With almost 13,000 passengers on board, the vessel set out on its maiden voyage transporting emigrants from our solar system to three newly habitable exoplanets orbiting nearby stars.\n",
    "\n",
    "While rounding Alpha Centauri en route to its first destination—the torrid 55 Cancri E—the unwary Spaceship Titanic collided with a spacetime anomaly hidden within a dust cloud. Sadly, it met a similar fate as its namesake from 1000 years before. Though the ship stayed intact, almost half of the passengers were transported to an alternate dimension!\n",
    "\n",
    "To help rescue crews and retrieve the lost passengers, you are challenged to predict which passengers were transported by the anomaly using recordf recovered from the spaceship’s damaged computer system.\n",
    "\n",
    "Help save them and change history!"
   ]
  },
  {
   "cell_type": "markdown",
   "id": "fc778996",
   "metadata": {
    "jupyter": {
     "source_hidden": false
    }
   },
   "source": [
    "## 1. Introduction \n",
    "### Imports"
   ]
  },
  {
   "cell_type": "code",
   "execution_count": 50,
   "id": "56eaaf64",
   "metadata": {
    "collapsed": false,
    "jupyter": {
     "outputs_hidden": false
    }
   },
   "outputs": [],
   "source": [
    "import pandas as pd\n",
    "import numpy as np\n",
    "import matplotlib.pyplot as plt\n",
    "from sklearn.ensemble import RandomForestClassifier\n",
    "from sklearn.datasets import make_classification"
   ]
  },
  {
   "cell_type": "markdown",
   "id": "758237e6",
   "metadata": {
    "jupyter": {
     "source_hidden": false
    }
   },
   "source": [
    "### Discovering the files \n",
    "In the data folder we do have 3 files containing interessting pieces of information : \n",
    "- sample_submission.csv : Contains the good format for submitting your resultss\n",
    "- train.csv : It contains the data we will use to train our predictive model -> optimizing the parameters and hyperparameters\n",
    "- test.csv : This will contains the data to try out the weights we optimized during the training part with the training data which is just above\n",
    "\n",
    "So let's checkout the kind of data we have in train which should be kinda identical to what we have in test"
   ]
  },
  {
   "cell_type": "code",
   "execution_count": 51,
   "id": "60f75135",
   "metadata": {},
   "outputs": [
    {
     "data": {
      "text/html": [
       "<div>\n",
       "<style scoped>\n",
       "    .dataframe tbody tr th:only-of-type {\n",
       "        vertical-align: middle;\n",
       "    }\n",
       "\n",
       "    .dataframe tbody tr th {\n",
       "        vertical-align: top;\n",
       "    }\n",
       "\n",
       "    .dataframe thead th {\n",
       "        text-align: right;\n",
       "    }\n",
       "</style>\n",
       "<table border=\"1\" class=\"dataframe\">\n",
       "  <thead>\n",
       "    <tr style=\"text-align: right;\">\n",
       "      <th></th>\n",
       "      <th>PassengerId</th>\n",
       "      <th>HomePlanet</th>\n",
       "      <th>CryoSleep</th>\n",
       "      <th>Cabin</th>\n",
       "      <th>Destination</th>\n",
       "      <th>Age</th>\n",
       "      <th>VIP</th>\n",
       "      <th>RoomService</th>\n",
       "      <th>FoodCourt</th>\n",
       "      <th>ShoppingMall</th>\n",
       "      <th>Spa</th>\n",
       "      <th>VRDeck</th>\n",
       "      <th>Name</th>\n",
       "      <th>Transported</th>\n",
       "    </tr>\n",
       "  </thead>\n",
       "  <tbody>\n",
       "    <tr>\n",
       "      <th>0</th>\n",
       "      <td>0001_01</td>\n",
       "      <td>Europa</td>\n",
       "      <td>False</td>\n",
       "      <td>B/0/P</td>\n",
       "      <td>TRAPPIST-1e</td>\n",
       "      <td>39.0</td>\n",
       "      <td>False</td>\n",
       "      <td>0.0</td>\n",
       "      <td>0.0</td>\n",
       "      <td>0.0</td>\n",
       "      <td>0.0</td>\n",
       "      <td>0.0</td>\n",
       "      <td>Maham Ofracculy</td>\n",
       "      <td>False</td>\n",
       "    </tr>\n",
       "    <tr>\n",
       "      <th>1</th>\n",
       "      <td>0002_01</td>\n",
       "      <td>Earth</td>\n",
       "      <td>False</td>\n",
       "      <td>F/0/S</td>\n",
       "      <td>TRAPPIST-1e</td>\n",
       "      <td>24.0</td>\n",
       "      <td>False</td>\n",
       "      <td>109.0</td>\n",
       "      <td>9.0</td>\n",
       "      <td>25.0</td>\n",
       "      <td>549.0</td>\n",
       "      <td>44.0</td>\n",
       "      <td>Juanna Vines</td>\n",
       "      <td>True</td>\n",
       "    </tr>\n",
       "    <tr>\n",
       "      <th>2</th>\n",
       "      <td>0003_01</td>\n",
       "      <td>Europa</td>\n",
       "      <td>False</td>\n",
       "      <td>A/0/S</td>\n",
       "      <td>TRAPPIST-1e</td>\n",
       "      <td>58.0</td>\n",
       "      <td>True</td>\n",
       "      <td>43.0</td>\n",
       "      <td>3576.0</td>\n",
       "      <td>0.0</td>\n",
       "      <td>6715.0</td>\n",
       "      <td>49.0</td>\n",
       "      <td>Altark Susent</td>\n",
       "      <td>False</td>\n",
       "    </tr>\n",
       "    <tr>\n",
       "      <th>3</th>\n",
       "      <td>0003_02</td>\n",
       "      <td>Europa</td>\n",
       "      <td>False</td>\n",
       "      <td>A/0/S</td>\n",
       "      <td>TRAPPIST-1e</td>\n",
       "      <td>33.0</td>\n",
       "      <td>False</td>\n",
       "      <td>0.0</td>\n",
       "      <td>1283.0</td>\n",
       "      <td>371.0</td>\n",
       "      <td>3329.0</td>\n",
       "      <td>193.0</td>\n",
       "      <td>Solam Susent</td>\n",
       "      <td>False</td>\n",
       "    </tr>\n",
       "    <tr>\n",
       "      <th>4</th>\n",
       "      <td>0004_01</td>\n",
       "      <td>Earth</td>\n",
       "      <td>False</td>\n",
       "      <td>F/1/S</td>\n",
       "      <td>TRAPPIST-1e</td>\n",
       "      <td>16.0</td>\n",
       "      <td>False</td>\n",
       "      <td>303.0</td>\n",
       "      <td>70.0</td>\n",
       "      <td>151.0</td>\n",
       "      <td>565.0</td>\n",
       "      <td>2.0</td>\n",
       "      <td>Willy Santantines</td>\n",
       "      <td>True</td>\n",
       "    </tr>\n",
       "  </tbody>\n",
       "</table>\n",
       "</div>"
      ],
      "text/plain": [
       "  PassengerId HomePlanet CryoSleep  Cabin  Destination   Age    VIP  \\\n",
       "0     0001_01     Europa     False  B/0/P  TRAPPIST-1e  39.0  False   \n",
       "1     0002_01      Earth     False  F/0/S  TRAPPIST-1e  24.0  False   \n",
       "2     0003_01     Europa     False  A/0/S  TRAPPIST-1e  58.0   True   \n",
       "3     0003_02     Europa     False  A/0/S  TRAPPIST-1e  33.0  False   \n",
       "4     0004_01      Earth     False  F/1/S  TRAPPIST-1e  16.0  False   \n",
       "\n",
       "   RoomService  FoodCourt  ShoppingMall     Spa  VRDeck               Name  \\\n",
       "0          0.0        0.0           0.0     0.0     0.0    Maham Ofracculy   \n",
       "1        109.0        9.0          25.0   549.0    44.0       Juanna Vines   \n",
       "2         43.0     3576.0           0.0  6715.0    49.0      Altark Susent   \n",
       "3          0.0     1283.0         371.0  3329.0   193.0       Solam Susent   \n",
       "4        303.0       70.0         151.0   565.0     2.0  Willy Santantines   \n",
       "\n",
       "   Transported  \n",
       "0        False  \n",
       "1         True  \n",
       "2        False  \n",
       "3        False  \n",
       "4         True  "
      ]
     },
     "execution_count": 51,
     "metadata": {},
     "output_type": "execute_result"
    }
   ],
   "source": [
    "train_df = pd.read_csv(\"./data/train.csv\")\n",
    "test_df = pd.read_csv(\"./data/test.csv\")\n",
    "train_df.head()"
   ]
  },
  {
   "cell_type": "code",
   "execution_count": 52,
   "metadata": {},
   "outputs": [
    {
     "data": {
      "text/html": [
       "<div>\n",
       "<style scoped>\n",
       "    .dataframe tbody tr th:only-of-type {\n",
       "        vertical-align: middle;\n",
       "    }\n",
       "\n",
       "    .dataframe tbody tr th {\n",
       "        vertical-align: top;\n",
       "    }\n",
       "\n",
       "    .dataframe thead th {\n",
       "        text-align: right;\n",
       "    }\n",
       "</style>\n",
       "<table border=\"1\" class=\"dataframe\">\n",
       "  <thead>\n",
       "    <tr style=\"text-align: right;\">\n",
       "      <th></th>\n",
       "      <th>Age</th>\n",
       "      <th>RoomService</th>\n",
       "      <th>FoodCourt</th>\n",
       "      <th>ShoppingMall</th>\n",
       "      <th>Spa</th>\n",
       "      <th>VRDeck</th>\n",
       "    </tr>\n",
       "  </thead>\n",
       "  <tbody>\n",
       "    <tr>\n",
       "      <th>count</th>\n",
       "      <td>8514.000000</td>\n",
       "      <td>8512.000000</td>\n",
       "      <td>8510.000000</td>\n",
       "      <td>8485.000000</td>\n",
       "      <td>8510.000000</td>\n",
       "      <td>8505.000000</td>\n",
       "    </tr>\n",
       "    <tr>\n",
       "      <th>mean</th>\n",
       "      <td>28.827930</td>\n",
       "      <td>224.687617</td>\n",
       "      <td>458.077203</td>\n",
       "      <td>173.729169</td>\n",
       "      <td>311.138778</td>\n",
       "      <td>304.854791</td>\n",
       "    </tr>\n",
       "    <tr>\n",
       "      <th>std</th>\n",
       "      <td>14.489021</td>\n",
       "      <td>666.717663</td>\n",
       "      <td>1611.489240</td>\n",
       "      <td>604.696458</td>\n",
       "      <td>1136.705535</td>\n",
       "      <td>1145.717189</td>\n",
       "    </tr>\n",
       "    <tr>\n",
       "      <th>min</th>\n",
       "      <td>0.000000</td>\n",
       "      <td>0.000000</td>\n",
       "      <td>0.000000</td>\n",
       "      <td>0.000000</td>\n",
       "      <td>0.000000</td>\n",
       "      <td>0.000000</td>\n",
       "    </tr>\n",
       "    <tr>\n",
       "      <th>25%</th>\n",
       "      <td>19.000000</td>\n",
       "      <td>0.000000</td>\n",
       "      <td>0.000000</td>\n",
       "      <td>0.000000</td>\n",
       "      <td>0.000000</td>\n",
       "      <td>0.000000</td>\n",
       "    </tr>\n",
       "    <tr>\n",
       "      <th>50%</th>\n",
       "      <td>27.000000</td>\n",
       "      <td>0.000000</td>\n",
       "      <td>0.000000</td>\n",
       "      <td>0.000000</td>\n",
       "      <td>0.000000</td>\n",
       "      <td>0.000000</td>\n",
       "    </tr>\n",
       "    <tr>\n",
       "      <th>75%</th>\n",
       "      <td>38.000000</td>\n",
       "      <td>47.000000</td>\n",
       "      <td>76.000000</td>\n",
       "      <td>27.000000</td>\n",
       "      <td>59.000000</td>\n",
       "      <td>46.000000</td>\n",
       "    </tr>\n",
       "    <tr>\n",
       "      <th>max</th>\n",
       "      <td>79.000000</td>\n",
       "      <td>14327.000000</td>\n",
       "      <td>29813.000000</td>\n",
       "      <td>23492.000000</td>\n",
       "      <td>22408.000000</td>\n",
       "      <td>24133.000000</td>\n",
       "    </tr>\n",
       "  </tbody>\n",
       "</table>\n",
       "</div>"
      ],
      "text/plain": [
       "               Age   RoomService     FoodCourt  ShoppingMall           Spa  \\\n",
       "count  8514.000000   8512.000000   8510.000000   8485.000000   8510.000000   \n",
       "mean     28.827930    224.687617    458.077203    173.729169    311.138778   \n",
       "std      14.489021    666.717663   1611.489240    604.696458   1136.705535   \n",
       "min       0.000000      0.000000      0.000000      0.000000      0.000000   \n",
       "25%      19.000000      0.000000      0.000000      0.000000      0.000000   \n",
       "50%      27.000000      0.000000      0.000000      0.000000      0.000000   \n",
       "75%      38.000000     47.000000     76.000000     27.000000     59.000000   \n",
       "max      79.000000  14327.000000  29813.000000  23492.000000  22408.000000   \n",
       "\n",
       "             VRDeck  \n",
       "count   8505.000000  \n",
       "mean     304.854791  \n",
       "std     1145.717189  \n",
       "min        0.000000  \n",
       "25%        0.000000  \n",
       "50%        0.000000  \n",
       "75%       46.000000  \n",
       "max    24133.000000  "
      ]
     },
     "execution_count": 52,
     "metadata": {},
     "output_type": "execute_result"
    }
   ],
   "source": [
    "train_df.describe()"
   ]
  },
  {
   "cell_type": "markdown",
   "id": "5bed2bb5",
   "metadata": {
    "jupyter": {
     "source_hidden": false
    }
   },
   "source": [
    "### Details of the datasets\n",
    "- PassengerId : unique key for the passenger\n",
    "- HomePlanet : qualitative data(class) \n",
    "- CryoSleep : qualitative data(class binary because boolean)\n",
    "- Cabin : qualitative data but not row(contains 3 pieces of information so we will have to split it)\n",
    "    - The cabin number where the passenger is staying. Takes the form deck/num/side, where side can be either P for Port or S for Starboard.\n",
    "- Destination : qualitative data\n",
    "- Age : Quantitative data but aybe we can translate it to class using range of ages (baby,young,teenagers,adult,old)\n",
    "- Vip : Qualitative data (boolean so binary)\n",
    "- RoomService"
   ]
  },
  {
   "cell_type": "markdown",
   "metadata": {},
   "source": [
    "## 2. Cleaning\n",
    "### Lets check and replace the missing values \n",
    "- If we can find an alternative \n",
    "- Otherwise I'll drop the rows"
   ]
  },
  {
   "cell_type": "code",
   "execution_count": 53,
   "metadata": {},
   "outputs": [
    {
     "name": "stdout",
     "output_type": "stream",
     "text": [
      "Rows with missing values :      PassengerId HomePlanet CryoSleep     Cabin  Destination   Age    VIP  \\\n",
      "7        0006_02      Earth      True     G/0/S  TRAPPIST-1e  28.0  False   \n",
      "10       0008_02     Europa      True     B/1/P  TRAPPIST-1e  34.0  False   \n",
      "15       0012_01      Earth     False       NaN  TRAPPIST-1e  31.0  False   \n",
      "16       0014_01       Mars     False     F/3/P  55 Cancri e  27.0  False   \n",
      "23       0020_03      Earth      True     E/0/S  55 Cancri e  29.0  False   \n",
      "...          ...        ...       ...       ...          ...   ...    ...   \n",
      "8667     9250_01     Europa     False   E/597/P  TRAPPIST-1e  29.0  False   \n",
      "8674     9257_01        NaN     False  F/1892/P  TRAPPIST-1e  13.0  False   \n",
      "8675     9259_01      Earth       NaN  F/1893/P  TRAPPIST-1e  44.0  False   \n",
      "8684     9274_01        NaN      True  G/1508/P  TRAPPIST-1e  23.0  False   \n",
      "8687     9275_03     Europa       NaN    A/97/P  TRAPPIST-1e  30.0  False   \n",
      "\n",
      "      RoomService  FoodCourt  ShoppingMall   Spa  VRDeck                Name  \\\n",
      "7             0.0        0.0           0.0   0.0     NaN  Candra Jacostaffey   \n",
      "10            0.0        0.0           NaN   0.0     0.0      Altardr Flatic   \n",
      "15           32.0        0.0         876.0   0.0     0.0       Justie Pooles   \n",
      "16         1286.0      122.0           NaN   0.0     0.0         Flats Eccle   \n",
      "23            0.0        0.0           NaN   0.0     0.0  Mollen Mcfaddennon   \n",
      "...           ...        ...           ...   ...     ...                 ...   \n",
      "8667          0.0     2972.0           NaN  28.0   188.0    Chain Reedectied   \n",
      "8674         39.0        0.0        1085.0  24.0     0.0          Ties Apple   \n",
      "8675       1030.0     1015.0           0.0  11.0     NaN     Annah Gilleyons   \n",
      "8684          0.0        0.0           0.0   0.0     0.0     Chelsa Bullisey   \n",
      "8687          0.0     3208.0           0.0   2.0   330.0     Atlasym Conable   \n",
      "\n",
      "      Transported  \n",
      "7            True  \n",
      "10           True  \n",
      "15          False  \n",
      "16          False  \n",
      "23          False  \n",
      "...           ...  \n",
      "8667         True  \n",
      "8674        False  \n",
      "8675         True  \n",
      "8684         True  \n",
      "8687         True  \n",
      "\n",
      "[2087 rows x 14 columns]\n"
     ]
    }
   ],
   "source": [
    "nan_values = train_df[train_df.isna().any(axis=1)] \n",
    "print(f\"Rows with missing values : {nan_values}\")"
   ]
  },
  {
   "cell_type": "markdown",
   "metadata": {},
   "source": [
    "We  can replace the age per the mean values of our series age"
   ]
  },
  {
   "cell_type": "code",
   "execution_count": 54,
   "id": "40d54b18",
   "metadata": {
    "jupyter": {
     "source_hidden": false
    }
   },
   "outputs": [
    {
     "name": "stdout",
     "output_type": "stream",
     "text": [
      "Train dataset :\n",
      "Size of the base dataset : (8693, 14)\n",
      "Rows where the age is missing : 179\n",
      "Check if we replaces all the rows with missing age(should be egal to 0) : 0\n",
      "\n",
      "\n",
      "Test dataset :\n",
      "Size of the base dataset : (4277, 13)\n",
      "Rows where the age is missing : 91\n",
      "Check if we replaces all the rows with missing age(should be egal to 0) : 0\n",
      "\n",
      "\n"
     ]
    }
   ],
   "source": [
    "def replaceAgeWithMeanVal(df):\n",
    "    print(f\"Size of the base dataset : {df.shape}\")\n",
    "    print(f\"Rows where the age is missing : {df['Age'].isna().sum()}\")\n",
    "    df['Age'].fillna(df['Age'].mean(), inplace=True)\n",
    "    print(f\"Check if we replaces all the rows with missing age(should be egal to 0) : {df['Age'].isna().sum()}\\n\\n\")\n",
    "\n",
    "print(\"Train dataset :\")\n",
    "replaceAgeWithMeanVal(train_df)\n",
    "\n",
    "print(\"Test dataset :\")\n",
    "replaceAgeWithMeanVal(test_df)"
   ]
  },
  {
   "cell_type": "markdown",
   "metadata": {},
   "source": [
    "Here is the money people spent on services so let's consider that na = no expenses"
   ]
  },
  {
   "cell_type": "code",
   "execution_count": 55,
   "metadata": {},
   "outputs": [
    {
     "name": "stdout",
     "output_type": "stream",
     "text": [
      "Train: Rows with missing values : 1134\n",
      "Test: Rows with missing values : 530\n"
     ]
    }
   ],
   "source": [
    "def replaceNaWithZero(df):\n",
    "    df['ShoppingMall'].fillna(0, inplace=True)\n",
    "    df['Spa'].fillna(0, inplace=True)\n",
    "    df['VRDeck'].fillna(0, inplace=True)\n",
    "    df['FoodCourt'].fillna(0, inplace=True)\n",
    "    df['RoomService'].fillna(0, inplace=True)\n",
    "\n",
    "replaceNaWithZero(train_df)\n",
    "replaceNaWithZero(test_df)\n",
    "\n",
    "print(f\"Train: Rows with missing values : {train_df.isna().any(axis=1).sum()}\")\n",
    "print(f\"Test: Rows with missing values : {test_df.isna().any(axis=1).sum()}\")\n",
    "\n"
   ]
  },
  {
   "cell_type": "markdown",
   "metadata": {},
   "source": [
    "### Deletion of the remaining rows containing NA"
   ]
  },
  {
   "cell_type": "code",
   "execution_count": 56,
   "metadata": {},
   "outputs": [
    {
     "name": "stdout",
     "output_type": "stream",
     "text": [
      "Before deletion SHAPE :\n",
      "- train : 8693\n",
      "- test : 4277\n",
      "Before deletion NAs :\n",
      "- train : 1134\n",
      "- test : 530\n",
      "After deletion SHAPE :\n",
      "- train : 7559\n",
      "- test : 3747\n",
      "After deletion NAs :\n",
      "- train : 0\n",
      "- test : 0\n"
     ]
    },
    {
     "data": {
      "image/png": "[encoded data removed]",
      "text/plain": [
       "<Figure size 640x480 with 4 Axes>"
      ]
     },
     "metadata": {},
     "output_type": "display_data"
    }
   ],
   "source": [
    "# Display of the shapes and nas states before vs after deletion\n",
    "\n",
    "#Creation of array to plot the results\n",
    "before_deletion_shape = [train_df.shape[0], test_df.shape[0]]\n",
    "before_deletion_na = [train_df.isna().any(axis=1).sum(), test_df.isna().any(axis=1).sum()]\n",
    "after_deletion_shape = []\n",
    "after_deletion_na = []\n",
    "\n",
    "\n",
    "print(f\"Before deletion SHAPE :\\n- train : {train_df.shape[0]}\\n- test : {test_df.shape[0]}\")\n",
    "print(f\"Before deletion NAs :\\n- train : {train_df.isna().any(axis=1).sum()}\\n- test : {test_df.isna().any(axis=1).sum()}\")\n",
    "\n",
    "# Deletion of the rows with missing values\n",
    "train_df.dropna(axis=0, inplace=True)\n",
    "test_df.dropna(axis=0, inplace=True)\n",
    "\n",
    "after_deletion_shape.append(train_df.shape[0])\n",
    "after_deletion_shape.append(test_df.shape[0])\n",
    "\n",
    "after_deletion_na.append(train_df.isna().any(axis=1).sum())\n",
    "after_deletion_na.append(test_df.isna().any(axis=1).sum())\n",
    "\n",
    "print(f\"After deletion SHAPE :\\n- train : {train_df.shape[0]}\\n- test : {test_df.shape[0]}\")\n",
    "print(f\"After deletion NAs :\\n- train : {train_df.isna().any(axis=1).sum()}\\n- test : {test_df.isna().any(axis=1).sum()}\")\n",
    "\n",
    "# Plotting part\n",
    "fig, axs = plt.subplots(2, 2)\n",
    "\n",
    "axs[0, 0].bar([\"train\", \"test\"], before_deletion_shape,width=0.3, color=['#b19cd9', '#a1c9f4'])\n",
    "axs[0, 0].set_title('Before deletion - Shape')\n",
    "axs[0, 0].set_ylim([0, max(before_deletion_shape) + 100])\n",
    "\n",
    "axs[0, 1].bar([\"train\", \"test\"], after_deletion_shape,width=0.3, color=['#b19cd9', '#a1c9f4'])\n",
    "axs[0, 1].set_title('After deletion - Shape')\n",
    "axs[0, 1].set_ylim([0, max(before_deletion_shape) + 100])\n",
    "\n",
    "axs[1, 0].bar([\"train\", \"test\"], before_deletion_na,width=0.3, color=['#b19cd9', '#a1c9f4'])\n",
    "axs[1, 0].set_title('Before deletion - NA')\n",
    "axs[1, 0].set_ylim([0, max(before_deletion_na) + 100])\n",
    "\n",
    "axs[1, 1].bar([\"train\", \"test\"], after_deletion_na,width=0.3, color=['#b19cd9', '#a1c9f4'])\n",
    "axs[1, 1].set_title('After deletion - NA')\n",
    "axs[1, 1].set_ylim([0, max(after_deletion_na) + 100])\n",
    "\n",
    "\n",
    "fig.tight_layout()\n",
    "plt.show()"
   ]
  },
  {
   "cell_type": "markdown",
   "metadata": {},
   "source": [
    "### Transform Cabin Number in 3 columns : \n",
    "- Deck\n",
    "- Num\n",
    "- Side"
   ]
  },
  {
   "cell_type": "code",
   "execution_count": 57,
   "metadata": {},
   "outputs": [
    {
     "name": "stdout",
     "output_type": "stream",
     "text": [
      "Columns of the dataset = \n",
      "Index(['PassengerId', 'HomePlanet', 'CryoSleep', 'Destination', 'Age', 'VIP',\n",
      "       'RoomService', 'FoodCourt', 'ShoppingMall', 'Spa', 'VRDeck', 'Name',\n",
      "       'Deck', 'Num', 'Side'],\n",
      "      dtype='object')\n"
     ]
    }
   ],
   "source": [
    "# split cabin column in 3 columns (split the string ('/') \n",
    "# and create a column for each part of the string)\n",
    "def splitCabin(df):\n",
    "    df[['Deck','Num','Side']] = df['Cabin'].str.split('/', expand=True)\n",
    "    df.drop(columns=['Cabin'], inplace=True)\n",
    "\n",
    "splitCabin(test_df)\n",
    "splitCabin(train_df)\n",
    "\n",
    "\n",
    "\n",
    "print(f\"Columns of the dataset = \\n{test_df.columns}\")"
   ]
  },
  {
   "cell_type": "markdown",
   "metadata": {},
   "source": [
    "### Spliting our datasets \n",
    "- To let the model predict an output we have to train it and in order that we will have to split our datasets in 2 part\n",
    "    - X : This is every features of the dataset that will help us knowing if the passenger survived \n",
    "    - y : In our case that's the result so the transported column\n",
    "\n",
    "We will then try our model on the test dataset that's why we don't have the column \"Transported\" inside test.csv"
   ]
  },
  {
   "cell_type": "code",
   "execution_count": 58,
   "metadata": {},
   "outputs": [
    {
     "name": "stdout",
     "output_type": "stream",
     "text": [
      "X_train shape = (7559, 15)\n",
      "Y_train shape = (7559,)\n"
     ]
    }
   ],
   "source": [
    "X_train, y_train = train_df.drop(columns=['Transported']), train_df['Transported']\n",
    "\n",
    "print(f\"X_train shape = {X_train.shape}\")\n",
    "print(f\"Y_train shape = {y_train.shape}\")\n",
    "\n"
   ]
  },
  {
   "cell_type": "markdown",
   "metadata": {},
   "source": [
    "### Done ! \n",
    "- We are now done with the cleaning and data preprocessing part \n",
    "- I tried to make it the more logic possible without taking too much time \n",
    "- Hope you understood the process and why I did all that"
   ]
  },
  {
   "cell_type": "markdown",
   "metadata": {},
   "source": [
    "## 3. Processing \n",
    "Now that we have our data we just have to chose the perfect model for this case. The problem here is a binary classification problem cause the result is a class and there is only 2 outputs possible : transported or not \n",
    "- We can try many models \n",
    "    - Logicistic regression\n",
    "    - Naive Bayes\n",
    "    - KNN\n",
    "    - Decision Trees/Random Forest\n",
    "    - Support Vector Machine \n",
    "    - Neural networks "
   ]
  }
 ],
 "metadata": {
  "kernelspec": {
   "display_name": "Python 3 (ipykernel)",
   "language": "python",
   "name": "python3"
  },
  "language_info": {
   "codemirror_mode": {
    "name": "ipython",
    "version": 3
   },
   "file_extension": ".py",
   "mimetype": "text/x-python",
   "name": "python",
   "nbconvert_exporter": "python",
   "pygments_lexer": "ipython3",
   "version": "3.11.6"
  },
  "widgets": {
   "application/vnd.jupyter.widget-state+json": {
    "state": {},
    "version_major": 2,
    "version_minor": 0
   }
  }
 },
 "nbformat": 4,
 "nbformat_minor": 2
}
